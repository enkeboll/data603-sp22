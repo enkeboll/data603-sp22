{
  "nbformat": 4,
  "nbformat_minor": 0,
  "metadata": {
    "colab": {
      "name": "hw03-[1].ipynb",
      "provenance": []
    },
    "kernelspec": {
      "name": "python3",
      "display_name": "Python 3"
    },
    "language_info": {
      "name": "python"
    }
  },
  "cells": [
    {
      "cell_type": "code",
      "execution_count": 7,
      "metadata": {
        "colab": {
          "base_uri": "https://localhost:8080/"
        },
        "id": "ZUs8bm4N2P_I",
        "outputId": "e9e12e00-1be4-421a-c1f6-256d6cca9490"
      },
      "outputs": [
        {
          "output_type": "stream",
          "name": "stdout",
          "text": [
            "Requirement already satisfied: mrjob in /usr/local/lib/python3.7/dist-packages (0.7.4)\n",
            "Requirement already satisfied: PyYAML>=3.10 in /usr/local/lib/python3.7/dist-packages (from mrjob) (3.13)\n"
          ]
        }
      ],
      "source": [
        "!pip install mrjob"
      ]
    },
    {
      "cell_type": "markdown",
      "source": [
        "## Python MRJob Package\n",
        "- https://mrjob.readthedocs.io/en/latest/\n",
        "\n",
        "``mrjob is the easiest route to writing Python programs that run on Hadoop. If you use mrjob, you’ll be able to test your code locally without installing Hadoop or run it on a cluster of your choice.``"
      ],
      "metadata": {
        "id": "ZSGDZ51c2nqt"
      }
    },
    {
      "cell_type": "code",
      "source": [
        "%%file wc.py\n",
        "from mrjob.job import MRJob\n",
        "\n",
        "class MRWordFrequencyCount(MRJob):\n",
        "\n",
        "    def mapper(self, _, line):\n",
        "        yield \"chars\", len(line)\n",
        "        yield \"words\", len(line.split())\n",
        "        yield \"lines\", 1\n",
        "\n",
        "    def reducer(self, key, values):\n",
        "        yield key, sum(values)\n",
        "\n",
        "\n",
        "if __name__ == '__main__':\n",
        "    MRWordFrequencyCount.run()"
      ],
      "metadata": {
        "colab": {
          "base_uri": "https://localhost:8080/"
        },
        "id": "pKVyoS112qvB",
        "outputId": "19069aef-510e-4d5d-d1e5-ae354869e1c1"
      },
      "execution_count": 8,
      "outputs": [
        {
          "output_type": "stream",
          "name": "stdout",
          "text": [
            "Overwriting wc.py\n"
          ]
        }
      ]
    },
    {
      "cell_type": "code",
      "source": [
        "#Problem 1\n",
        "import wc\n",
        "from io import StringIO\n",
        "import numpy as np\n",
        "import pandas as pd\n",
        "data = pd.read_csv('yelp (1).csv')\n",
        "dataTxt = data['text']\n",
        "np.savetxt(r'data.txt', dataTxt.values, fmt='%s')\n",
        "\n",
        "mr_job = wc.MRWordFrequencyCount(args=['data.txt'])\n",
        "words = 0\n",
        "reviews = 0\n",
        "with mr_job.make_runner() as runner:\n",
        "     runner.run()\n",
        "     for key, value in mr_job.parse_output(runner.cat_output()):\n",
        "       if key == 'words':\n",
        "         words = value\n",
        "       elif key == 'lines':\n",
        "         lines = value\n",
        "       else: \n",
        "         pass\n",
        "print(\"Word count \" + str(words))\n",
        "print(\"Lines count \" + str(lines))\n",
        "print(\"Number of words in each review is \" + str(words/lines))"
      ],
      "metadata": {
        "colab": {
          "base_uri": "https://localhost:8080/"
        },
        "id": "rVdIaQaR2ygD",
        "outputId": "c9ea0f14-399a-445c-fe32-62ad1b72627d"
      },
      "execution_count": 9,
      "outputs": [
        {
          "output_type": "stream",
          "name": "stderr",
          "text": [
            "No configs specified for inline runner\n"
          ]
        },
        {
          "output_type": "stream",
          "name": "stdout",
          "text": [
            "Word count 1310396\n",
            "Lines count 10000\n",
            "Number of words in each review is 131.0396\n"
          ]
        }
      ]
    }
  ]
}