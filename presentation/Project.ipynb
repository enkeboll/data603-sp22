{
 "cells": [
  {
   "cell_type": "markdown",
   "metadata": {
    "id": "9cKCVZwWQP_f"
   },
   "source": [
    "# Project Description"
   ]
  },
  {
   "cell_type": "markdown",
   "metadata": {
    "id": "q04Ow9ZaQT7Q"
   },
   "source": [
    "Recommendation engines play a critical role in customer engagement and retention for online media and entertainment industry.\n",
    "Recommendation Engines are the programs which basically compute the similarities between two entities and on that basis, they give us the targeted output.\n",
    "This movie recommendation system recommends movies to a user or a client by evaluating data set.\n"
   ]
  },
  {
   "cell_type": "markdown",
   "metadata": {
    "id": "4CktCZxmQa4A"
   },
   "source": [
    "# Problem Statement"
   ]
  },
  {
   "cell_type": "markdown",
   "metadata": {
    "id": "oKniNXC1QihJ"
   },
   "source": [
    "Build a movie recommendation system based on the user ratings \n",
    "General recommendation system: \n",
    "As for recommendation, for this method, we always recommend those movies with the highest average rating and more than certain number of ratings.\n",
    "User based recommendation system:\n",
    "Used similarities between the user ratings and predicted the recommendations for the user.\n"
   ]
  },
  {
   "cell_type": "markdown",
   "metadata": {
    "id": "at09kXNSQwz1"
   },
   "source": [
    "# Data Source"
   ]
  },
  {
   "cell_type": "markdown",
   "metadata": {
    "id": "TSeRIFdLQyhx"
   },
   "source": [
    "https://www.kaggle.com/netflix-inc/netflix-prize-data"
   ]
  },
  {
   "cell_type": "markdown",
   "metadata": {
    "id": "CniXs9AlS6EZ"
   },
   "source": [
    "# Code :"
   ]
  },
  {
   "cell_type": "code",
   "execution_count": null,
   "metadata": {
    "colab": {
     "base_uri": "https://localhost:8080/"
    },
    "id": "QCxNCrZIFk42",
    "outputId": "3e7196a7-02bb-4738-a232-c387f08f8848"
   },
   "outputs": [
    {
     "name": "stdout",
     "output_type": "stream",
     "text": [
      "Requirement already satisfied: PyDrive in /usr/local/lib/python3.7/dist-packages (1.3.1)\n",
      "Requirement already satisfied: PyYAML>=3.0 in /usr/local/lib/python3.7/dist-packages (from PyDrive) (3.13)\n",
      "Requirement already satisfied: google-api-python-client>=1.2 in /usr/local/lib/python3.7/dist-packages (from PyDrive) (1.12.8)\n",
      "Requirement already satisfied: oauth2client>=4.0.0 in /usr/local/lib/python3.7/dist-packages (from PyDrive) (4.1.3)\n",
      "Requirement already satisfied: six<2dev,>=1.13.0 in /usr/local/lib/python3.7/dist-packages (from google-api-python-client>=1.2->PyDrive) (1.15.0)\n",
      "Requirement already satisfied: google-api-core<2dev,>=1.21.0 in /usr/local/lib/python3.7/dist-packages (from google-api-python-client>=1.2->PyDrive) (1.26.3)\n",
      "Requirement already satisfied: google-auth>=1.16.0 in /usr/local/lib/python3.7/dist-packages (from google-api-python-client>=1.2->PyDrive) (1.35.0)\n",
      "Requirement already satisfied: uritemplate<4dev,>=3.0.0 in /usr/local/lib/python3.7/dist-packages (from google-api-python-client>=1.2->PyDrive) (3.0.1)\n",
      "Requirement already satisfied: google-auth-httplib2>=0.0.3 in /usr/local/lib/python3.7/dist-packages (from google-api-python-client>=1.2->PyDrive) (0.0.4)\n",
      "Requirement already satisfied: httplib2<1dev,>=0.15.0 in /usr/local/lib/python3.7/dist-packages (from google-api-python-client>=1.2->PyDrive) (0.17.4)\n",
      "Requirement already satisfied: pytz in /usr/local/lib/python3.7/dist-packages (from google-api-core<2dev,>=1.21.0->google-api-python-client>=1.2->PyDrive) (2018.9)\n",
      "Requirement already satisfied: packaging>=14.3 in /usr/local/lib/python3.7/dist-packages (from google-api-core<2dev,>=1.21.0->google-api-python-client>=1.2->PyDrive) (21.3)\n",
      "Requirement already satisfied: googleapis-common-protos<2.0dev,>=1.6.0 in /usr/local/lib/python3.7/dist-packages (from google-api-core<2dev,>=1.21.0->google-api-python-client>=1.2->PyDrive) (1.53.0)\n",
      "Requirement already satisfied: setuptools>=40.3.0 in /usr/local/lib/python3.7/dist-packages (from google-api-core<2dev,>=1.21.0->google-api-python-client>=1.2->PyDrive) (57.4.0)\n",
      "Requirement already satisfied: protobuf>=3.12.0 in /usr/local/lib/python3.7/dist-packages (from google-api-core<2dev,>=1.21.0->google-api-python-client>=1.2->PyDrive) (3.17.3)\n",
      "Requirement already satisfied: requests<3.0.0dev,>=2.18.0 in /usr/local/lib/python3.7/dist-packages (from google-api-core<2dev,>=1.21.0->google-api-python-client>=1.2->PyDrive) (2.23.0)\n",
      "Requirement already satisfied: cachetools<5.0,>=2.0.0 in /usr/local/lib/python3.7/dist-packages (from google-auth>=1.16.0->google-api-python-client>=1.2->PyDrive) (4.2.4)\n",
      "Requirement already satisfied: rsa<5,>=3.1.4 in /usr/local/lib/python3.7/dist-packages (from google-auth>=1.16.0->google-api-python-client>=1.2->PyDrive) (4.7.2)\n",
      "Requirement already satisfied: pyasn1-modules>=0.2.1 in /usr/local/lib/python3.7/dist-packages (from google-auth>=1.16.0->google-api-python-client>=1.2->PyDrive) (0.2.8)\n",
      "Requirement already satisfied: pyasn1>=0.1.7 in /usr/local/lib/python3.7/dist-packages (from oauth2client>=4.0.0->PyDrive) (0.4.8)\n",
      "Requirement already satisfied: pyparsing!=3.0.5,>=2.0.2 in /usr/local/lib/python3.7/dist-packages (from packaging>=14.3->google-api-core<2dev,>=1.21.0->google-api-python-client>=1.2->PyDrive) (3.0.6)\n",
      "Requirement already satisfied: certifi>=2017.4.17 in /usr/local/lib/python3.7/dist-packages (from requests<3.0.0dev,>=2.18.0->google-api-core<2dev,>=1.21.0->google-api-python-client>=1.2->PyDrive) (2021.10.8)\n",
      "Requirement already satisfied: idna<3,>=2.5 in /usr/local/lib/python3.7/dist-packages (from requests<3.0.0dev,>=2.18.0->google-api-core<2dev,>=1.21.0->google-api-python-client>=1.2->PyDrive) (2.10)\n",
      "Requirement already satisfied: chardet<4,>=3.0.2 in /usr/local/lib/python3.7/dist-packages (from requests<3.0.0dev,>=2.18.0->google-api-core<2dev,>=1.21.0->google-api-python-client>=1.2->PyDrive) (3.0.4)\n",
      "Requirement already satisfied: urllib3!=1.25.0,!=1.25.1,<1.26,>=1.21.1 in /usr/local/lib/python3.7/dist-packages (from requests<3.0.0dev,>=2.18.0->google-api-core<2dev,>=1.21.0->google-api-python-client>=1.2->PyDrive) (1.24.3)\n"
     ]
    }
   ],
   "source": [
    "!pip install PyDrive"
   ]
  },
  {
   "cell_type": "code",
   "execution_count": null,
   "metadata": {
    "colab": {
     "base_uri": "https://localhost:8080/"
    },
    "id": "nMFNqskm4YPm",
    "outputId": "6e9c744f-64f2-4b87-9a25-cd40deece991"
   },
   "outputs": [
    {
     "name": "stdout",
     "output_type": "stream",
     "text": [
      "Collecting Pyspark\n",
      "  Downloading pyspark-3.2.0.tar.gz (281.3 MB)\n",
      "\u001b[K     |████████████████████████████████| 281.3 MB 39 kB/s \n",
      "\u001b[?25hCollecting py4j==0.10.9.2\n",
      "  Downloading py4j-0.10.9.2-py2.py3-none-any.whl (198 kB)\n",
      "\u001b[K     |████████████████████████████████| 198 kB 15.2 MB/s \n",
      "\u001b[?25hBuilding wheels for collected packages: Pyspark\n",
      "  Building wheel for Pyspark (setup.py) ... \u001b[?25l\u001b[?25hdone\n",
      "  Created wheel for Pyspark: filename=pyspark-3.2.0-py2.py3-none-any.whl size=281805912 sha256=fb22fedbeca5545498600b472c0a154da94d59cc19b2269fc30a6ee30a4d0886\n",
      "  Stored in directory: /root/.cache/pip/wheels/0b/de/d2/9be5d59d7331c6c2a7c1b6d1a4f463ce107332b1ecd4e80718\n",
      "Successfully built Pyspark\n",
      "Installing collected packages: py4j, Pyspark\n",
      "Successfully installed Pyspark-3.2.0 py4j-0.10.9.2\n"
     ]
    }
   ],
   "source": [
    "!pip install Pyspark"
   ]
  },
  {
   "cell_type": "markdown",
   "metadata": {
    "id": "tNP4mhh05ciw"
   },
   "source": [
    "Importing the relavent libraries"
   ]
  },
  {
   "cell_type": "code",
   "execution_count": null,
   "metadata": {
    "id": "F99jJRZCMI5u"
   },
   "outputs": [],
   "source": [
    "import os\n",
    "from pyspark import SparkConf, SparkContext\n",
    "from itertools import cycle, islice\n",
    "import matplotlib.pyplot as plt\n",
    "from pyspark.sql import SparkSession\n",
    "import numpy as np\n",
    "from datetime import datetime as dt\n",
    "from time import time\n",
    "from pyspark.mllib.recommendation import ALS\n",
    "import math\n",
    "from collections import OrderedDict\n",
    "from google.colab import drive\n",
    "import sys\n",
    "%matplotlib inline "
   ]
  },
  {
   "cell_type": "markdown",
   "metadata": {
    "id": "oEAQrg-mA40q"
   },
   "source": [
    "# Data Collection"
   ]
  },
  {
   "cell_type": "markdown",
   "metadata": {
    "id": "Q1OjhsU65hYJ"
   },
   "source": [
    "Mounting the data file to google colab"
   ]
  },
  {
   "cell_type": "code",
   "execution_count": null,
   "metadata": {
    "colab": {
     "base_uri": "https://localhost:8080/"
    },
    "id": "ehC1fIbyL7Pr",
    "outputId": "d8f7b69e-a429-4051-b9a5-ab866b23be7a"
   },
   "outputs": [
    {
     "name": "stdout",
     "output_type": "stream",
     "text": [
      "Mounted at /content/gdrive/\n"
     ]
    }
   ],
   "source": [
    "g_drive_path = '/content/gdrive/MyDrive/archive'\n",
    "drive.mount('/content/gdrive/')\n",
    "sys.path.append(g_drive_path)"
   ]
  },
  {
   "cell_type": "code",
   "execution_count": null,
   "metadata": {
    "id": "U24ATA-DSpdM"
   },
   "outputs": [],
   "source": [
    "os.chdir('/content/gdrive/MyDrive/archive')"
   ]
  },
  {
   "cell_type": "code",
   "execution_count": null,
   "metadata": {
    "colab": {
     "base_uri": "https://localhost:8080/"
    },
    "id": "zaJ2WbDWXmZ8",
    "outputId": "83a4405e-aaa7-4580-f9e6-e2a0819a1239"
   },
   "outputs": [
    {
     "name": "stdout",
     "output_type": "stream",
     "text": [
      "combined_data_1.txt  combined_data_4.txt  probe.txt\n",
      "combined_data_2.txt  data.csv\t\t  qualifying.txt\n",
      "combined_data_3.txt  movie_titles.csv\t  README\n"
     ]
    }
   ],
   "source": [
    "!ls   #Listing all  files in the colab directory"
   ]
  },
  {
   "cell_type": "markdown",
   "metadata": {
    "id": "aX3XXg9i52dw"
   },
   "source": [
    "Starting the spark kernel"
   ]
  },
  {
   "cell_type": "code",
   "execution_count": null,
   "metadata": {
    "id": "sP6jJHzf7SZ4"
   },
   "outputs": [],
   "source": [
    "conf = SparkConf().setMaster(\"local\").setAppName(\"Project\")\n",
    "sc = SparkContext(conf=conf)"
   ]
  },
  {
   "cell_type": "markdown",
   "metadata": {
    "id": "STB4NxH957tq"
   },
   "source": [
    "Merging all the data files into a single file"
   ]
  },
  {
   "cell_type": "code",
   "execution_count": null,
   "metadata": {
    "colab": {
     "base_uri": "https://localhost:8080/"
    },
    "id": "h766XNoNamU-",
    "outputId": "f29a968f-1163-4ab5-ef47-53a78ba44f67"
   },
   "outputs": [
    {
     "name": "stdout",
     "output_type": "stream",
     "text": [
      "Reading ratings from combined_data_1.txt...\n",
      "Done.\n",
      "\n",
      "Reading ratings from combined_data_2.txt...\n",
      "Done.\n",
      "\n",
      "Reading ratings from combined_data_3.txt...\n",
      "Done.\n",
      "\n",
      "Reading ratings from combined_data_4.txt...\n",
      "Done.\n",
      "\n",
      "Time taken : 228.88085293769836\n"
     ]
    }
   ],
   "source": [
    "start = time()\n",
    "files=['combined_data_1.txt','combined_data_2.txt', \n",
    "           'combined_data_3.txt', 'combined_data_4.txt']\n",
    "data = open('data.csv', mode='w')\n",
    "for file in files:\n",
    "    print(\"Reading ratings from {}...\".format(file))\n",
    "    with open(file) as f:\n",
    "        for line in f: \n",
    "            #del row[:]  you don't have to do this.\n",
    "            line = line.strip()\n",
    "            if line.endswith(':'):\n",
    "                # All below are ratings for this movie, until another movie appears.\n",
    "                movie_id = line.replace(':', '')\n",
    "            else:\n",
    "                row = [x for x in line.split(',')]\n",
    "                row.insert(0, movie_id)\n",
    "                data.write(','.join(row))\n",
    "                data.write('\\n')\n",
    "    print(\"Done.\\n\")\n",
    "data.close()\n",
    "print('Time taken :', time() - start)"
   ]
  },
  {
   "cell_type": "markdown",
   "metadata": {
    "id": "pcUffL1B6IHf"
   },
   "source": [
    "Creating RDDs"
   ]
  },
  {
   "cell_type": "code",
   "execution_count": null,
   "metadata": {
    "id": "IWDs9wGU1O-3"
   },
   "outputs": [],
   "source": [
    "ratings_rdd = sc.textFile('data.csv')"
   ]
  },
  {
   "cell_type": "code",
   "execution_count": null,
   "metadata": {
    "id": "FHPND6Zu3OAw"
   },
   "outputs": [],
   "source": [
    "movies_rdd = sc.textFile('movie_titles.csv')"
   ]
  },
  {
   "cell_type": "code",
   "execution_count": null,
   "metadata": {
    "colab": {
     "base_uri": "https://localhost:8080/"
    },
    "id": "za4LHGub5o2P",
    "outputId": "812fa954-8cec-4a99-a6d7-c3abad9282d2"
   },
   "outputs": [
    {
     "data": {
      "text/plain": [
       "['1,1488844,3,2005-09-06',\n",
       " '1,822109,5,2005-05-13',\n",
       " '1,885013,4,2005-10-19',\n",
       " '1,30878,4,2005-12-26',\n",
       " '1,823519,3,2004-05-03']"
      ]
     },
     "execution_count": 11,
     "metadata": {},
     "output_type": "execute_result"
    }
   ],
   "source": [
    "ratings_rdd.take(5)"
   ]
  },
  {
   "cell_type": "code",
   "execution_count": null,
   "metadata": {
    "colab": {
     "base_uri": "https://localhost:8080/"
    },
    "id": "T46qUsUMAJuN",
    "outputId": "fd856168-b8df-4b9d-c5df-8ce8729d7213"
   },
   "outputs": [
    {
     "data": {
      "text/plain": [
       "['1,2003,Dinosaur Planet',\n",
       " '2,2004,Isle of Man TT 2004 Review',\n",
       " '3,1997,Character',\n",
       " \"4,1994,Paula Abdul's Get Up & Dance\",\n",
       " '5,2004,The Rise and Fall of ECW']"
      ]
     },
     "execution_count": 12,
     "metadata": {},
     "output_type": "execute_result"
    }
   ],
   "source": [
    "movies_rdd.take(5)"
   ]
  },
  {
   "cell_type": "markdown",
   "metadata": {
    "id": "DLmhoDby6PeS"
   },
   "source": [
    "# Data Cleaning"
   ]
  },
  {
   "cell_type": "code",
   "execution_count": null,
   "metadata": {
    "id": "gF7KK1GKB_Mn"
   },
   "outputs": [],
   "source": [
    "ratings_rdd = ratings_rdd.distinct()    #Removing duplicate entries"
   ]
  },
  {
   "cell_type": "code",
   "execution_count": null,
   "metadata": {
    "id": "DYzvZEDeAEs7"
   },
   "outputs": [],
   "source": [
    "def getRatingTuple(line):\n",
    "    items = line.replace(\"\\n\", \"\").split(\",\")\n",
    "    try:\n",
    "        return int(items[0]), int(items[1]), float(items[2]) #Removing the date field in ratings_rdd as it is not useful for our analysis.\n",
    "    except ValueError:\n",
    "        pass\n",
    "\n",
    "def getMovieTuple(line):\n",
    "    items = line.replace(\"\\n\", \"\").split(\",\") \n",
    "    try:\n",
    "        return int(items[0]), items[2]  #Removing the year field in movies_rdd as it is not useful for our analysis.\n",
    "    except ValueError:\n",
    "        pass"
   ]
  },
  {
   "cell_type": "code",
   "execution_count": null,
   "metadata": {
    "id": "kg1bobK_AdEU"
   },
   "outputs": [],
   "source": [
    "ratingsRDD = ratings_rdd.map(lambda x: getRatingTuple(x)).cache()\n",
    "moviesRDD = movies_rdd.map(lambda x: getMovieTuple(x)).cache()"
   ]
  },
  {
   "cell_type": "code",
   "execution_count": null,
   "metadata": {
    "colab": {
     "base_uri": "https://localhost:8080/"
    },
    "id": "pkk2yj_f6qL7",
    "outputId": "8030147c-7a9b-475f-e7c6-af2798187902"
   },
   "outputs": [
    {
     "data": {
      "text/plain": [
       "[(1, 558634, 4.0),\n",
       " (1, 2287003, 5.0),\n",
       " (1, 1027056, 3.0),\n",
       " (1, 573434, 4.0),\n",
       " (1, 1563530, 4.0)]"
      ]
     },
     "execution_count": 16,
     "metadata": {},
     "output_type": "execute_result"
    }
   ],
   "source": [
    "ratingsRDD.take(5)"
   ]
  },
  {
   "cell_type": "code",
   "execution_count": null,
   "metadata": {
    "colab": {
     "base_uri": "https://localhost:8080/"
    },
    "id": "s3Aa4mRY_nv-",
    "outputId": "f2355601-dcbb-4297-85c8-aba60a189f65"
   },
   "outputs": [
    {
     "data": {
      "text/plain": [
       "[(1, 'Dinosaur Planet'),\n",
       " (2, 'Isle of Man TT 2004 Review'),\n",
       " (3, 'Character'),\n",
       " (4, \"Paula Abdul's Get Up & Dance\"),\n",
       " (5, 'The Rise and Fall of ECW')]"
      ]
     },
     "execution_count": 17,
     "metadata": {},
     "output_type": "execute_result"
    }
   ],
   "source": [
    "moviesRDD.take(5)"
   ]
  },
  {
   "cell_type": "markdown",
   "metadata": {
    "id": "bvxJZXPh7mIj"
   },
   "source": [
    "#Exploratory Data Analysis"
   ]
  },
  {
   "cell_type": "code",
   "execution_count": null,
   "metadata": {
    "id": "ihHVRCC73OEP"
   },
   "outputs": [],
   "source": [
    "ratingsCount = ratingsRDD.count()\n",
    "moviesCount = moviesRDD.count()"
   ]
  },
  {
   "cell_type": "code",
   "execution_count": null,
   "metadata": {
    "colab": {
     "base_uri": "https://localhost:8080/"
    },
    "id": "kdMMglGo3OHW",
    "outputId": "1d203c97-c34a-4ad9-ba28-1ff99beddd12"
   },
   "outputs": [
    {
     "name": "stdout",
     "output_type": "stream",
     "text": [
      "The length of ratings dataset is 100480507 and length of movie title dataset is 17770\n"
     ]
    }
   ],
   "source": [
    " print(\"The length of ratings dataset is {0} and length of movie title dataset is {1}\".format(ratingsCount,moviesCount))"
   ]
  },
  {
   "cell_type": "code",
   "execution_count": null,
   "metadata": {
    "id": "sIOccv7f8pM2"
   },
   "outputs": [],
   "source": [
    "eda_rdd = ratingsRDD.sample(False,fraction = 0.0001)"
   ]
  },
  {
   "cell_type": "code",
   "execution_count": null,
   "metadata": {
    "colab": {
     "base_uri": "https://localhost:8080/"
    },
    "id": "huL0xy2OHv00",
    "outputId": "e94f1e12-2e67-4a7a-d474-725e7e2ea42b"
   },
   "outputs": [
    {
     "data": {
      "text/plain": [
       "[(257, 374783, 5.0)]"
      ]
     },
     "execution_count": 21,
     "metadata": {},
     "output_type": "execute_result"
    }
   ],
   "source": [
    "eda_rdd.take(1)"
   ]
  },
  {
   "cell_type": "code",
   "execution_count": null,
   "metadata": {
    "id": "HBYwtB8P9bNq"
   },
   "outputs": [],
   "source": [
    "# print(\"Length of data taken for visualisation =\",eda_rdd.count())"
   ]
  },
  {
   "cell_type": "code",
   "execution_count": null,
   "metadata": {
    "id": "fWPTbVIS1aPh"
   },
   "outputs": [],
   "source": [
    "def rating_distribution(ratings_rdd):\n",
    "  return ratings_rdd.map(lambda x: x[2]).countByValue().items()\n",
    "\n",
    "\n",
    "ratingscoreDict = {x[0]:x[1] for x in rating_distribution(eda_rdd)}   #Creating a dictionary with rating as key and rating count as value"
   ]
  },
  {
   "cell_type": "code",
   "execution_count": null,
   "metadata": {
    "colab": {
     "base_uri": "https://localhost:8080/",
     "height": 295
    },
    "id": "8sXX118iSn8K",
    "outputId": "6e2923b3-a103-47b3-f259-4cccd0ab9a5c"
   },
   "outputs": [
    {
     "data": {
      "image/png": "[encoded data removed]",
      "text/plain": [
       "<Figure size 432x288 with 1 Axes>"
      ]
     },
     "metadata": {
      "needs_background": "light"
     },
     "output_type": "display_data"
    }
   ],
   "source": [
    "plt.figure()\n",
    "plt.bar(ratingscoreDict.keys(), ratingscoreDict.values(), 0.5)\n",
    "plt.xlabel('Rating')\n",
    "plt.ylabel('No. of Ratings')\n",
    "plt.title('Distribution of ratings over the dataset')\n",
    "plt.show()"
   ]
  },
  {
   "cell_type": "code",
   "execution_count": null,
   "metadata": {
    "id": "CWvvWjDfDGQK"
   },
   "outputs": [],
   "source": [
    "def ratings_per_movie_distribution(ratings_rdd):\n",
    "    return ratings_rdd.map(lambda x: x[1]).countByValue().items()\n",
    "\n",
    "#Creating a dictionary with movie as key and number of ratings per movie as value\n",
    "no_of_ratings_per_movie = {x[0]:x[1] for x in ratings_per_movie_distribution(eda_rdd)}"
   ]
  },
  {
   "cell_type": "code",
   "execution_count": null,
   "metadata": {
    "colab": {
     "base_uri": "https://localhost:8080/",
     "height": 295
    },
    "id": "feMQAWJ6CsoE",
    "outputId": "8d3b52da-bcf9-4380-f092-80d1eb83d852"
   },
   "outputs": [
    {
     "data": {
      "image/png": "[encoded data removed]",
      "text/plain": [
       "<Figure size 432x288 with 1 Axes>"
      ]
     },
     "metadata": {
      "needs_background": "light"
     },
     "output_type": "display_data"
    }
   ],
   "source": [
    "plt.figure()\n",
    "plt.plot(list(no_of_ratings_per_movie.values()))\n",
    "plt.title('Number of Ratings per Movie')\n",
    "plt.xlabel('Movie id')\n",
    "plt.ylabel('Number of Users who rated a movie')\n",
    "plt.show()\n"
   ]
  },
  {
   "cell_type": "markdown",
   "metadata": {
    "id": "y33tlUc0euWI"
   },
   "source": [
    "Creating train, validation and test dataset"
   ]
  },
  {
   "cell_type": "code",
   "execution_count": null,
   "metadata": {
    "id": "l7sjSeFqYSvZ"
   },
   "outputs": [],
   "source": [
    "training_RDD, validation_RDD, test_RDD = ratingsRDD.randomSplit([6, 2, 2])\n",
    "validation_for_predict_RDD = validation_RDD.map(lambda x: (x[0], x[1]))            #Removing ratings value in validation \n",
    "test_for_predict_RDD = test_RDD.map(lambda x: (x[0], x[1]))                        #and test dataset for testing"
   ]
  },
  {
   "cell_type": "code",
   "execution_count": null,
   "metadata": {
    "id": "AdgA9d6aYVtv"
   },
   "outputs": [],
   "source": [
    "#print(\"Length of Training dataset = {0} Validation dataset = {1} Test Dataset = {2}\",training_RDD.count(),validation_RDD.count(),test_RDD.count())"
   ]
  },
  {
   "cell_type": "markdown",
   "metadata": {
    "id": "9h05X2WB8Twy"
   },
   "source": [
    "# Machine Learning model"
   ]
  },
  {
   "cell_type": "code",
   "execution_count": null,
   "metadata": {
    "colab": {
     "base_uri": "https://localhost:8080/"
    },
    "id": "7JSoNnH6Zb5D",
    "outputId": "16400fba-8551-477b-df25-827fed90623d"
   },
   "outputs": [
    {
     "name": "stdout",
     "output_type": "stream",
     "text": [
      "For rank 4 the RMSE is 0.884054551449582\n",
      "For rank 8 the RMSE is 0.8713566797793022\n",
      "For rank 12 the RMSE is 0.8688835515815428\n",
      "The best model was trained with rank 12\n",
      "Model trained in 10525.488 seconds\n"
     ]
    }
   ],
   "source": [
    "iterations = 10     # No of iterations\n",
    "regularization_parameter = 0.1     # Setting regularisation parameter\n",
    "ranks = [4, 8, 12]      # Hyperparameter\n",
    "errors = [0, 0, 0]      # To measure the error for each value of rank\n",
    "err = 0                 # To store index of error values\n",
    "\n",
    "min_error = float('inf')   # To store lowest error value, setting initial value as infinite\n",
    "best_rank = -1             # To store best rank value\n",
    "best_iteration = -1        # To store best iteration value\n",
    "start = time()\n",
    "for rank in ranks:\n",
    "    model = ALS.train(training_RDD, rank, iterations=iterations, lambda_=regularization_parameter)   #Training the model\n",
    "    predictions = model.predictAll(validation_for_predict_RDD).map(lambda x: ((x[0], x[1]), x[2]))   #Predicting the rating for validation dataset\n",
    "    actual_and_pred_rating = validation_RDD.map(lambda x: ((int(x[0]), int(x[1])), float(x[2]))).join(predictions)\n",
    "    error = math.sqrt(actual_and_pred_rating.map(lambda x: (x[1][0] - x[1][1])**2).mean())           #Calculating mean square error for each row\n",
    "    errors[err] = error\n",
    "    err += 1\n",
    "    print('For rank {0} the RMSE is {1}'.format(rank, error))\n",
    "    if error < min_error:                                                                           #To find best rank value and least error value\n",
    "        min_error = error\n",
    "        best_rank = rank\n",
    "\n",
    "end = time() - start\n",
    "print('The best model was trained with rank',best_rank)\n",
    "\n",
    "print(\"Model trained in {0} seconds\".format(round(end,3)))"
   ]
  },
  {
   "cell_type": "markdown",
   "metadata": {
    "id": "yViKuekRiFab"
   },
   "source": [
    "Training the dataset with the best hyperparameters to find RMSE on test data"
   ]
  },
  {
   "cell_type": "code",
   "execution_count": null,
   "metadata": {
    "colab": {
     "base_uri": "https://localhost:8080/"
    },
    "id": "5J-go2SFmZk2",
    "outputId": "c8ff990f-6025-46a1-f11e-70e5a6ecd97d"
   },
   "outputs": [
    {
     "name": "stdout",
     "output_type": "stream",
     "text": [
      "Model trained in 1730.165 seconds\n",
      "For testing data the RMSE is  0.8692185631535375\n"
     ]
    }
   ],
   "source": [
    "start = time()\n",
    "model = ALS.train(training_RDD, best_rank, iterations=iterations, lambda_=regularization_parameter)\n",
    "end = time() - start\n",
    "print(\"Model trained in {0} seconds\".format(round(end,3)))\n",
    "\n",
    "predictions = model.predictAll(test_for_predict_RDD).map(lambda x: ((x[0], x[1]), x[2]))\n",
    "actual_and_pred_rating = test_RDD.map(lambda x: ((int(x[0]), int(x[1])), float(x[2]))).join(predictions)\n",
    "error = math.sqrt(actual_and_pred_rating.map(lambda x: (x[1][0] - x[1][1])**2).mean())\n",
    "    \n",
    "print('For testing data the RMSE is ',error)"
   ]
  },
  {
   "cell_type": "markdown",
   "metadata": {
    "id": "Dcimu0s-0b3L"
   },
   "source": [
    "# Recommendation engine"
   ]
  },
  {
   "cell_type": "code",
   "execution_count": null,
   "metadata": {
    "id": "d71_VT-Do8Ny"
   },
   "outputs": [],
   "source": [
    "def get_counts_and_averages(ID_and_ratings_tuple):    #Getting counts and average rating of all movies\n",
    "    nratings = len(ID_and_ratings_tuple[1])\n",
    "    return ID_and_ratings_tuple[0], (nratings, float(sum(x for x in ID_and_ratings_tuple[1]))/nratings)\n",
    "\n",
    "movie_ID_with_ratings_RDD = (ratingsRDD.map(lambda x: (x[1], x[2])).groupByKey())\n",
    "movie_ID_with_avg_ratings_RDD = movie_ID_with_ratings_RDD.map(get_counts_and_averages)\n",
    "movie_rating_counts_RDD = movie_ID_with_avg_ratings_RDD.map(lambda x: (x[0], x[1][0]))"
   ]
  },
  {
   "cell_type": "markdown",
   "metadata": {
    "id": "JHxxvgOow1V4"
   },
   "source": [
    "Creating a new user to get movie recommendations, with user ID as 0"
   ]
  },
  {
   "cell_type": "code",
   "execution_count": null,
   "metadata": {
    "colab": {
     "base_uri": "https://localhost:8080/"
    },
    "id": "qNG8GF6zD_6J",
    "outputId": "30ebc5d8-d5fd-48eb-e90e-2bb72ff31938"
   },
   "outputs": [
    {
     "name": "stdout",
     "output_type": "stream",
     "text": [
      "New user ratings:  [(0, 175, 4), (0, 252, 3), (0, 457, 3), (0, 465, 4), (0, 483, 4)]\n"
     ]
    }
   ],
   "source": [
    "new_user_ID = 0\n",
    "\n",
    "# The format of each line is (userID, movieID, rating)\n",
    "# Assigning random value to the new_user_ratings\n",
    "new_user_ratings = [\n",
    "     (0,175,4), # Reservoir Dogs (1992)\n",
    "     (0,252,3), # Stuart Little 2 (2002)\n",
    "     (0,457,3), # Kill Bill: Vol. 2 (2004)\n",
    "     (0,465,4), # Coolie No.1 (1995)\n",
    "     (0,483,4), # Rush Hour 2 (2001)\n",
    "     (0,621,1), # Armageddon (1997)\n",
    "     (0,633,1), # Baazigar (1993)\n",
    "     (0,1477,3), # Aradhana (1969)\n",
    "     (0,1524,5) , # American Ninja (1995)\n",
    "     (0,1623,4) # Pokemon Advanced (2003)\n",
    "    ]\n",
    "new_user_ratings_RDD = sc.parallelize(new_user_ratings)   #Creating an Rdd for new user data\n",
    "print('New user ratings: ',new_user_ratings_RDD.take(5))"
   ]
  },
  {
   "cell_type": "code",
   "execution_count": null,
   "metadata": {
    "id": "97k_yPQKEOG8"
   },
   "outputs": [],
   "source": [
    "data_with_new_ratings_RDD = ratingsRDD.union(new_user_ratings_RDD)  #merging new user data with the original data"
   ]
  },
  {
   "cell_type": "markdown",
   "metadata": {
    "id": "Lb7r1x1E85Mx"
   },
   "source": [
    "Training the model with the merged data "
   ]
  },
  {
   "cell_type": "code",
   "execution_count": null,
   "metadata": {
    "colab": {
     "base_uri": "https://localhost:8080/"
    },
    "id": "wkn2qao-ETvG",
    "outputId": "0b667740-32e9-4553-b643-5880dae8dcba"
   },
   "outputs": [
    {
     "name": "stdout",
     "output_type": "stream",
     "text": [
      "New model trained in 2560.957 seconds\n"
     ]
    }
   ],
   "source": [
    "start = time()\n",
    "new_ratings_model = ALS.train(data_with_new_ratings_RDD, rank = best_rank, \n",
    "                              iterations=iterations, lambda_=regularization_parameter)\n",
    "end = time() - start\n",
    "\n",
    "print(\"New model trained in {0} seconds\".format(round(end,3)))"
   ]
  },
  {
   "cell_type": "markdown",
   "metadata": {
    "id": "YUNT0oQCLfQB"
   },
   "source": [
    "Predicting ratings for movies not yet watched by the user"
   ]
  },
  {
   "cell_type": "code",
   "execution_count": null,
   "metadata": {
    "id": "eoPddIF0Ex0P"
   },
   "outputs": [],
   "source": [
    "new_user_ratings_ids = map(lambda x: x[1], new_user_ratings) # getting just movie IDs\n",
    "#Creating a rdd of tuple of new user id and all movie ids except those movie that the user has already watched and rated\n",
    "new_user_movies_unrated_RDD = (moviesRDD.filter(lambda x: x[0] not in new_user_ratings_ids).map(lambda x: (new_user_ID, x[0])))\n",
    "\n",
    "#Predicting new ratings as suitable for the new user for the movies that the new user has not watched yet using the model\n",
    "new_user_recommendations_RDD = new_ratings_model.predictAll(new_user_movies_unrated_RDD)"
   ]
  },
  {
   "cell_type": "code",
   "execution_count": null,
   "metadata": {
    "id": "_y0LpRqRE0eW"
   },
   "outputs": [],
   "source": [
    "#Joing the movie title and movie count to recommend the top movies to the new user\n",
    "new_user_recommendations_rating_RDD = new_user_recommendations_RDD.map(lambda x: (x.product, x.rating))\n",
    "new_user_recommendations_rating_title_and_count_RDD = new_user_recommendations_rating_RDD.join(moviesRDD).join(movie_rating_counts_RDD)\n",
    "new_user_recommendations_rating_title_and_count_RDD = \\\n",
    "    new_user_recommendations_rating_title_and_count_RDD.map(lambda x: (x[1][0][1], x[1][0][0], x[1][1]))"
   ]
  },
  {
   "cell_type": "markdown",
   "metadata": {
    "id": "ybbRCnPnw_FZ"
   },
   "source": [
    "Recommending top 10 movies to the new user"
   ]
  },
  {
   "cell_type": "code",
   "execution_count": null,
   "metadata": {
    "colab": {
     "base_uri": "https://localhost:8080/"
    },
    "id": "siF3NsrjFE17",
    "outputId": "69141b2b-461f-41bb-b7a3-a2f1c10800cf"
   },
   "outputs": [
    {
     "name": "stdout",
     "output_type": "stream",
     "text": [
      "TOP recommended movies (with more than 25 reviews):\n",
      "\n",
      "Movies, Ratings, Movie count\n",
      "('Melody Time', 2.2586089928027984, 27)\n",
      "(\"Arthur's Quest\", 2.174830462197871, 50)\n",
      "('Wilder Napalm', 1.9698531364651988, 48)\n",
      "('Glory', 1.9489442805675408, 47)\n",
      "('David Byrne: Live at Union Chapel', 1.9377096202696007, 78)\n",
      "('It Came From Outer Space', 1.921228442246896, 46)\n",
      "('Lewis & Clark & George', 1.8391446224820007, 57)\n",
      "('The History Channel Presents: The Alamo', 1.8089732768846831, 50)\n",
      "('Murder by Death', 1.8057059284288854, 28)\n",
      "('Guncrazy', 1.8050097674319998, 46)\n"
     ]
    }
   ],
   "source": [
    "recommended_movies = new_user_recommendations_rating_title_and_count_RDD.filter(lambda x: x[2]>=25).takeOrdered(10, key=lambda x: -x[1])\n",
    "\n",
    "print('TOP recommended movies (with more than 25 reviews):\\n')\n",
    "print('Movies, Ratings, Movie count')\n",
    "for i in range(len(recommended_movies)):\n",
    "  print(recommended_movies[i])"
   ]
  },
  {
   "cell_type": "code",
   "execution_count": null,
   "metadata": {
    "id": "5DRIU9zi0YSs"
   },
   "outputs": [],
   "source": [
    "recommended_movies = sc.parallelize(recommended_movies)    #Converting the list object to rdd"
   ]
  },
  {
   "cell_type": "markdown",
   "metadata": {
    "id": "CWX5mkxS6hfo"
   },
   "source": [
    "# Visualisation"
   ]
  },
  {
   "cell_type": "markdown",
   "metadata": {
    "id": "1j00zop32S8e"
   },
   "source": [
    "Creating visualisation of recommended movies(x-axis) vs movie counts(y-axis)"
   ]
  },
  {
   "cell_type": "code",
   "execution_count": null,
   "metadata": {
    "id": "IvTcmke2zMc3"
   },
   "outputs": [],
   "source": [
    "def count_movies(rdd):\n",
    "    return rdd.map(lambda x: (x[0],x[2])).collect()\n",
    "\n",
    "countDict = {x[0]:x[1] for x in count_movies(recommended_movies)} \n",
    "countDict = OrderedDict(reversed(list(countDict.items())))  #https://www.geeksforgeeks.org/python-reverse-dictionary-keys-order/"
   ]
  },
  {
   "cell_type": "code",
   "execution_count": null,
   "metadata": {
    "colab": {
     "base_uri": "https://localhost:8080/",
     "height": 54
    },
    "id": "vEZpXWSkkS6A",
    "outputId": "442972eb-8332-4b6c-a83e-5021a1db2124"
   },
   "outputs": [
    {
     "data": {
      "image/png": "[encoded data removed]",
      "text/plain": [
       "<Figure size 432x288 with 1 Axes>"
      ]
     },
     "metadata": {
      "needs_background": "light"
     },
     "output_type": "display_data"
    }
   ],
   "source": [
    "plt.figure()\n",
    "plt.barh(list(countDict.keys()),countDict.values(), 0.5)\n",
    "plt.xlabel('Total number of Ratings recieved')\n",
    "plt.ylabel('Movies')\n",
    "plt.title('Total number of Ratings recieved for the recommended movies')\n",
    "plt.show()"
   ]
  },
  {
   "cell_type": "markdown",
   "metadata": {
    "id": "bzLHRwWt11te"
   },
   "source": [
    "Creating visualisation of recommended movies(x-axis) vs avg ratings(y-axis) "
   ]
  },
  {
   "cell_type": "code",
   "execution_count": null,
   "metadata": {
    "id": "ocw-5r2s2W2M"
   },
   "outputs": [],
   "source": [
    "def ratings_of_movies(rdd):\n",
    "    return rdd.map(lambda x: (x[0],x[1])).collect()\n",
    "\n",
    "ratingsDict = {x[0]:x[1] for x in ratings_of_movies(recommended_movies)}\n",
    "ratingsDict = OrderedDict(reversed(list(ratingsDict.items())))   #https://www.geeksforgeeks.org/python-reverse-dictionary-keys-order/"
   ]
  },
  {
   "cell_type": "code",
   "execution_count": null,
   "metadata": {
    "colab": {
     "base_uri": "https://localhost:8080/",
     "height": 295
    },
    "id": "AKr_c8OD8YSt",
    "outputId": "3d8b5bbe-5a9b-43d7-dc96-973bb26b12dc"
   },
   "outputs": [
    {
     "data": {
      "image/png": "[encoded data removed]",
      "text/plain": [
       "<Figure size 432x288 with 1 Axes>"
      ]
     },
     "metadata": {
      "needs_background": "light"
     },
     "output_type": "display_data"
    }
   ],
   "source": [
    "plt.figure()\n",
    "plt.barh(list(ratingsDict.keys()),ratingsDict.values(), 0.5)\n",
    "plt.xlabel('Average Ratings')\n",
    "plt.ylabel('Movies')\n",
    "plt.title('Average Ratings recieved for the recommended movies')\n",
    "plt.show()"
   ]
  },
  {
   "cell_type": "markdown",
   "metadata": {
    "id": "KbdAmSBlGU3N"
   },
   "source": [
    "# Conclusion"
   ]
  },
  {
   "cell_type": "markdown",
   "metadata": {
    "id": "MfOZiavzGXp1"
   },
   "source": [
    "Best Hyperparameter rank value = 12\n"
   ]
  },
  {
   "cell_type": "markdown",
   "metadata": {
    "id": "UxUYjUPgHEJ9"
   },
   "source": [
    "For rank 12, for validation dataset, the RMSE is 0.868952762409848"
   ]
  },
  {
   "cell_type": "markdown",
   "metadata": {
    "id": "9R5YA1L5HBSj"
   },
   "source": [
    "For testing data the RMSE is  0.868124746411092"
   ]
  },
  {
   "cell_type": "markdown",
   "metadata": {
    "id": "_SQ3tnrvHe_M"
   },
   "source": [
    "Top recommended movies for new user are:\n",
    "1.  'A Bullet in the Head'\n",
    "2.  'Snake & Crane Arts of Shaolin'\n",
    "3.  'Eddie Izzard: Circle'\n",
    "4.  'Mandragora'\n",
    "5.  'Phone Booth'\n",
    "6.  'Space Battleship Yamato: The Movie'\n",
    "7.  'Mission Kashmir'\n",
    "8.  'City of Women'\n",
    "9.  'Embrace the Darkness 2'\n",
    "10. 'Little House on the Prairie: Season 6'"
   ]
  }
 ],
 "metadata": {
  "colab": {
   "collapsed_sections": [],
   "name": "603_Project.ipynb",
   "provenance": []
  },
  "kernelspec": {
   "display_name": "Python 3 (ipykernel)",
   "language": "python",
   "name": "python3"
  },
  "language_info": {
   "codemirror_mode": {
    "name": "ipython",
    "version": 3
   },
   "file_extension": ".py",
   "mimetype": "text/x-python",
   "name": "python",
   "nbconvert_exporter": "python",
   "pygments_lexer": "ipython3",
   "version": "3.8.8"
  }
 },
 "nbformat": 4,
 "nbformat_minor": 1
}
